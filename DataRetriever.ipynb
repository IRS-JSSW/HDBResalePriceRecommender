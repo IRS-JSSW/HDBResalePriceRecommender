{
 "cells": [
  {
   "cell_type": "code",
   "execution_count": 27,
   "id": "prescription-rates",
   "metadata": {},
   "outputs": [],
   "source": [
    "import urllib3\n",
    "import requests\n",
    "import json\n",
    "import pandas as pd\n",
    "import os"
   ]
  },
  {
   "cell_type": "code",
   "execution_count": 16,
   "id": "inside-cruise",
   "metadata": {},
   "outputs": [],
   "source": [
    "#on 2021.09.21, total records is 93818. We set limits to 100000, since DataGov API defaults limit to 100 if unspecified\n",
    "url = 'https://data.gov.sg/api/action/datastore_search?resource_id=42ff9cfe-abe5-4b54-beda-c88f9bb438ee&limit=100000'"
   ]
  },
  {
   "cell_type": "code",
   "execution_count": 17,
   "id": "secure-bible",
   "metadata": {},
   "outputs": [
    {
     "output_type": "stream",
     "name": "stdout",
     "text": [
      "<Response [200]>\n"
     ]
    }
   ],
   "source": [
    "results = requests.get(url)\n",
    "\n",
    "print(results)"
   ]
  },
  {
   "cell_type": "code",
   "execution_count": 19,
   "id": "contemporary-compression",
   "metadata": {
    "tags": [
     "outputPrepend"
    ]
   },
   "outputs": [
    {
     "output_type": "stream",
     "name": "stdout",
     "text": [
      "O 09', '_id': 93753, 'block': '342A'}, {'town': 'YISHUN', 'flat_type': '5 ROOM', 'flat_model': 'Premium Apartment', 'floor_area_sqm': '117', 'street_name': 'YISHUN RING RD', 'resale_price': '595000', 'month': '2021-02', 'remaining_lease': '94 years', 'lease_commence_date': '2016', 'storey_range': '10 TO 12', '_id': 93754, 'block': '342A'}, {'town': 'YISHUN', 'flat_type': '5 ROOM', 'flat_model': 'Improved', 'floor_area_sqm': '122', 'street_name': 'YISHUN RING RD', 'resale_price': '470000', 'month': '2021-02', 'remaining_lease': '66 years 07 months', 'lease_commence_date': '1988', 'storey_range': '10 TO 12', '_id': 93755, 'block': '366'}, {'town': 'YISHUN', 'flat_type': '5 ROOM', 'flat_model': 'Improved', 'floor_area_sqm': '123', 'street_name': 'YISHUN RING RD', 'resale_price': '470000', 'month': '2021-02', 'remaining_lease': '65 years 01 month', 'lease_commence_date': '1987', 'storey_range': '01 TO 03', '_id': 93756, 'block': '810'}, {'town': 'YISHUN', 'flat_type': '5 ROOM', 'flat_model': 'Improved', 'floor_area_sqm': '123', 'street_name': 'YISHUN RING RD', 'resale_price': '457000', 'month': '2021-02', 'remaining_lease': '71 years', 'lease_commence_date': '1993', 'storey_range': '01 TO 03', '_id': 93757, 'block': '413'}, {'town': 'YISHUN', 'flat_type': '5 ROOM', 'flat_model': 'Model A', 'floor_area_sqm': '135', 'street_name': 'YISHUN RING RD', 'resale_price': '500000', 'month': '2021-02', 'remaining_lease': '63 years 07 months', 'lease_commence_date': '1985', 'storey_range': '04 TO 06', '_id': 93758, 'block': '236'}, {'town': 'YISHUN', 'flat_type': '5 ROOM', 'flat_model': 'Improved', 'floor_area_sqm': '122', 'street_name': 'YISHUN RING RD', 'resale_price': '500000', 'month': '2021-03', 'remaining_lease': '66 years 06 months', 'lease_commence_date': '1988', 'storey_range': '10 TO 12', '_id': 93759, 'block': '357'}, {'town': 'YISHUN', 'flat_type': '5 ROOM', 'flat_model': 'Improved', 'floor_area_sqm': '122', 'street_name': 'YISHUN RING RD', 'resale_price': '475000', 'month': '2021-03', 'remaining_lease': '66 years 05 months', 'lease_commence_date': '1988', 'storey_range': '07 TO 09', '_id': 93760, 'block': '367'}, {'town': 'YISHUN', 'flat_type': '5 ROOM', 'flat_model': 'Improved', 'floor_area_sqm': '121', 'street_name': 'YISHUN RING RD', 'resale_price': '500000', 'month': '2021-03', 'remaining_lease': '65 years 10 months', 'lease_commence_date': '1987', 'storey_range': '04 TO 06', '_id': 93761, 'block': '786'}, {'town': 'YISHUN', 'flat_type': '5 ROOM', 'flat_model': 'Improved', 'floor_area_sqm': '121', 'street_name': 'YISHUN ST 11', 'resale_price': '475000', 'month': '2021-01', 'remaining_lease': '63 years 06 months', 'lease_commence_date': '1985', 'storey_range': '01 TO 03', '_id': 93762, 'block': '161'}, {'town': 'YISHUN', 'flat_type': '5 ROOM', 'flat_model': 'Improved', 'floor_area_sqm': '121', 'street_name': 'YISHUN ST 11', 'resale_price': '458000', 'month': '2021-01', 'remaining_lease': '63 years 03 months', 'lease_commence_date': '1985', 'storey_range': '04 TO 06', '_id': 93763, 'block': '154'}, {'town': 'YISHUN', 'flat_type': '5 ROOM', 'flat_model': 'Improved', 'floor_area_sqm': '126', 'street_name': 'YISHUN ST 11', 'resale_price': '500000', 'month': '2021-02', 'remaining_lease': '63 years 06 months', 'lease_commence_date': '1985', 'storey_range': '07 TO 09', '_id': 93764, 'block': '161'}, {'town': 'YISHUN', 'flat_type': '5 ROOM', 'flat_model': 'Improved', 'floor_area_sqm': '111', 'street_name': 'YISHUN ST 20', 'resale_price': '490000', 'month': '2021-01', 'remaining_lease': '78 years 11 months', 'lease_commence_date': '2000', 'storey_range': '10 TO 12', '_id': 93765, 'block': '299'}, {'town': 'YISHUN', 'flat_type': '5 ROOM', 'flat_model': 'Improved', 'floor_area_sqm': '121', 'street_name': 'YISHUN ST 21', 'resale_price': '460000', 'month': '2021-01', 'remaining_lease': '63 years 06 months', 'lease_commence_date': '1985', 'storey_range': '10 TO 12', '_id': 93766, 'block': '229'}, {'town': 'YISHUN', 'flat_type': '5 ROOM', 'flat_model': 'Improved', 'floor_area_sqm': '126', 'street_name': 'YISHUN ST 21', 'resale_price': '495000', 'month': '2021-01', 'remaining_lease': '63 years 05 months', 'lease_commence_date': '1985', 'storey_range': '07 TO 09', '_id': 93767, 'block': '221'}, {'town': 'YISHUN', 'flat_type': '5 ROOM', 'flat_model': 'Improved', 'floor_area_sqm': '121', 'street_name': 'YISHUN ST 21', 'resale_price': '529000', 'month': '2021-01', 'remaining_lease': '63 years 06 months', 'lease_commence_date': '1985', 'storey_range': '07 TO 09', '_id': 93768, 'block': '209'}, {'town': 'YISHUN', 'flat_type': '5 ROOM', 'flat_model': 'Improved', 'floor_area_sqm': '122', 'street_name': 'YISHUN ST 22', 'resale_price': '438000', 'month': '2021-02', 'remaining_lease': '64 years 09 months', 'lease_commence_date': '1986', 'storey_range': '10 TO 12', '_id': 93769, 'block': '265'}, {'town': 'YISHUN', 'flat_type': '5 ROOM', 'flat_model': 'Improved', 'floor_area_sqm': '129', 'street_name': 'YISHUN ST 22', 'resale_price': '465000', 'month': '2021-02', 'remaining_lease': '64 years 04 months', 'lease_commence_date': '1986', 'storey_range': '10 TO 12', '_id': 93770, 'block': '263'}, {'town': 'YISHUN', 'flat_type': '5 ROOM', 'flat_model': 'Improved', 'floor_area_sqm': '112', 'street_name': 'YISHUN ST 31', 'resale_price': '570000', 'month': '2021-02', 'remaining_lease': '93 years 10 months', 'lease_commence_date': '2015', 'storey_range': '10 TO 12', '_id': 93771, 'block': '334B'}, {'town': 'YISHUN', 'flat_type': '5 ROOM', 'flat_model': 'Improved', 'floor_area_sqm': '112', 'street_name': 'YISHUN ST 31', 'resale_price': '500000', 'month': '2021-03', 'remaining_lease': '93 years 09 months', 'lease_commence_date': '2015', 'storey_range': '01 TO 03', '_id': 93772, 'block': '334B'}, {'town': 'YISHUN', 'flat_type': '5 ROOM', 'flat_model': 'Improved', 'floor_area_sqm': '112', 'street_name': 'YISHUN ST 51', 'resale_price': '580000', 'month': '2021-01', 'remaining_lease': '94 years 03 months', 'lease_commence_date': '2016', 'storey_range': '10 TO 12', '_id': 93773, 'block': '505B'}, {'town': 'YISHUN', 'flat_type': '5 ROOM', 'flat_model': 'Improved', 'floor_area_sqm': '113', 'street_name': 'YISHUN ST 51', 'resale_price': '628000', 'month': '2021-01', 'remaining_lease': '94 years 02 months', 'lease_commence_date': '2016', 'storey_range': '10 TO 12', '_id': 93774, 'block': '505B'}, {'town': 'YISHUN', 'flat_type': '5 ROOM', 'flat_model': 'Improved', 'floor_area_sqm': '112', 'street_name': 'YISHUN ST 51', 'resale_price': '495000', 'month': '2021-01', 'remaining_lease': '94 years 02 months', 'lease_commence_date': '2016', 'storey_range': '01 TO 03', '_id': 93775, 'block': '504C'}, {'town': 'YISHUN', 'flat_type': '5 ROOM', 'flat_model': 'Improved', 'floor_area_sqm': '113', 'street_name': 'YISHUN ST 51', 'resale_price': '570888', 'month': '2021-01', 'remaining_lease': '94 years 02 months', 'lease_commence_date': '2016', 'storey_range': '07 TO 09', '_id': 93776, 'block': '505B'}, {'town': 'YISHUN', 'flat_type': '5 ROOM', 'flat_model': 'Improved', 'floor_area_sqm': '112', 'street_name': 'YISHUN ST 51', 'resale_price': '550000', 'month': '2021-02', 'remaining_lease': '94 years 03 months', 'lease_commence_date': '2016', 'storey_range': '04 TO 06', '_id': 93777, 'block': '505C'}, {'town': 'YISHUN', 'flat_type': '5 ROOM', 'flat_model': 'Improved', 'floor_area_sqm': '112', 'street_name': 'YISHUN ST 51', 'resale_price': '542888', 'month': '2021-02', 'remaining_lease': '94 years 01 month', 'lease_commence_date': '2016', 'storey_range': '07 TO 09', '_id': 93778, 'block': '505D'}, {'town': 'YISHUN', 'flat_type': '5 ROOM', 'flat_model': 'Improved', 'floor_area_sqm': '113', 'street_name': 'YISHUN ST 51', 'resale_price': '585000', 'month': '2021-02', 'remaining_lease': '94 years 01 month', 'lease_commence_date': '2016', 'storey_range': '13 TO 15', '_id': 93779, 'block': '505C'}, {'town': 'YISHUN', 'flat_type': '5 ROOM', 'flat_model': 'Improved', 'floor_area_sqm': '112', 'street_name': 'YISHUN ST 51', 'resale_price': '540000', 'month': '2021-03', 'remaining_lease': '94 years 01 month', 'lease_commence_date': '2016', 'storey_range': '04 TO 06', '_id': 93780, 'block': '504D'}, {'town': 'YISHUN', 'flat_type': '5 ROOM', 'flat_model': 'Improved', 'floor_area_sqm': '113', 'street_name': 'YISHUN ST 51', 'resale_price': '625000', 'month': '2021-03', 'remaining_lease': '95 years 06 months', 'lease_commence_date': '2017', 'storey_range': '10 TO 12', '_id': 93781, 'block': '511A'}, {'town': 'YISHUN', 'flat_type': '5 ROOM', 'flat_model': 'Improved', 'floor_area_sqm': '123', 'street_name': 'YISHUN ST 61', 'resale_price': '455000', 'month': '2021-01', 'remaining_lease': '65 years 02 months', 'lease_commence_date': '1987', 'storey_range': '01 TO 03', '_id': 93782, 'block': '603'}, {'town': 'YISHUN', 'flat_type': '5 ROOM', 'flat_model': 'Improved', 'floor_area_sqm': '121', 'street_name': 'YISHUN ST 61', 'resale_price': '495000', 'month': '2021-01', 'remaining_lease': '65 years 06 months', 'lease_commence_date': '1987', 'storey_range': '04 TO 06', '_id': 93783, 'block': '625'}, {'town': 'YISHUN', 'flat_type': '5 ROOM', 'flat_model': 'Improved', 'floor_area_sqm': '121', 'street_name': 'YISHUN ST 61', 'resale_price': '518000', 'month': '2021-02', 'remaining_lease': '65 years 02 months', 'lease_commence_date': '1987', 'storey_range': '10 TO 12', '_id': 93784, 'block': '613'}, {'town': 'YISHUN', 'flat_type': '5 ROOM', 'flat_model': 'Improved', 'floor_area_sqm': '121', 'street_name': 'YISHUN ST 61', 'resale_price': '495000', 'month': '2021-03', 'remaining_lease': '65 years 03 months', 'lease_commence_date': '1987', 'storey_range': '04 TO 06', '_id': 93785, 'block': '602'}, {'town': 'YISHUN', 'flat_type': '5 ROOM', 'flat_model': 'Improved', 'floor_area_sqm': '122', 'street_name': 'YISHUN ST 71', 'resale_price': '460000', 'month': '2021-01', 'remaining_lease': '65 years 01 month', 'lease_commence_date': '1987', 'storey_range': '04 TO 06', '_id': 93786, 'block': '730'}, {'town': 'YISHUN', 'flat_type': '5 ROOM', 'flat_model': 'Improved', 'floor_area_sqm': '122', 'street_name': 'YISHUN ST 71', 'resale_price': '440000', 'month': '2021-02', 'remaining_lease': '65 years 04 months', 'lease_commence_date': '1987', 'storey_range': '04 TO 06', '_id': 93787, 'block': '715'}, {'town': 'YISHUN', 'flat_type': '5 ROOM', 'flat_model': 'Improved', 'floor_area_sqm': '122', 'street_name': 'YISHUN ST 71', 'resale_price': '467000', 'month': '2021-02', 'remaining_lease': '64 years 11 months', 'lease_commence_date': '1987', 'storey_range': '07 TO 09', '_id': 93788, 'block': '730'}, {'town': 'YISHUN', 'flat_type': '5 ROOM', 'flat_model': 'Improved', 'floor_area_sqm': '122', 'street_name': 'YISHUN ST 72', 'resale_price': '508000', 'month': '2021-02', 'remaining_lease': '64 years 09 months', 'lease_commence_date': '1986', 'storey_range': '10 TO 12', '_id': 93789, 'block': '755'}, {'town': 'YISHUN', 'flat_type': '5 ROOM', 'flat_model': 'Improved', 'floor_area_sqm': '122', 'street_name': 'YISHUN ST 72', 'resale_price': '515000', 'month': '2021-03', 'remaining_lease': '64 years 09 months', 'lease_commence_date': '1986', 'storey_range': '10 TO 12', '_id': 93790, 'block': '758'}, {'town': 'YISHUN', 'flat_type': '5 ROOM', 'flat_model': 'Improved', 'floor_area_sqm': '122', 'street_name': 'YISHUN ST 81', 'resale_price': '480000', 'month': '2021-01', 'remaining_lease': '66 years 02 months', 'lease_commence_date': '1988', 'storey_range': '07 TO 09', '_id': 93791, 'block': '866'}, {'town': 'YISHUN', 'flat_type': '5 ROOM', 'flat_model': 'Improved', 'floor_area_sqm': '122', 'street_name': 'YISHUN ST 81', 'resale_price': '450000', 'month': '2021-02', 'remaining_lease': '66 years 01 month', 'lease_commence_date': '1988', 'storey_range': '01 TO 03', '_id': 93792, 'block': '865'}, {'town': 'YISHUN', 'flat_type': '5 ROOM', 'flat_model': 'Improved', 'floor_area_sqm': '122', 'street_name': 'YISHUN ST 81', 'resale_price': '502000', 'month': '2021-02', 'remaining_lease': '66 years 06 months', 'lease_commence_date': '1988', 'storey_range': '01 TO 03', '_id': 93793, 'block': '820'}, {'town': 'YISHUN', 'flat_type': '5 ROOM', 'flat_model': 'Improved', 'floor_area_sqm': '122', 'street_name': 'YISHUN ST 81', 'resale_price': '513000', 'month': '2021-03', 'remaining_lease': '66 years 05 months', 'lease_commence_date': '1988', 'storey_range': '04 TO 06', '_id': 93794, 'block': '820'}, {'town': 'YISHUN', 'flat_type': 'EXECUTIVE', 'flat_model': 'Maisonette', 'floor_area_sqm': '154', 'street_name': 'YISHUN AVE 11', 'resale_price': '630000', 'month': '2021-01', 'remaining_lease': '66 years 08 months', 'lease_commence_date': '1988', 'storey_range': '04 TO 06', '_id': 93795, 'block': '351'}, {'town': 'YISHUN', 'flat_type': 'EXECUTIVE', 'flat_model': 'Maisonette', 'floor_area_sqm': '146', 'street_name': 'YISHUN AVE 11', 'resale_price': '600000', 'month': '2021-02', 'remaining_lease': '66 years 07 months', 'lease_commence_date': '1988', 'storey_range': '04 TO 06', '_id': 93796, 'block': '351'}, {'town': 'YISHUN', 'flat_type': 'EXECUTIVE', 'flat_model': 'Apartment', 'floor_area_sqm': '164', 'street_name': 'YISHUN AVE 4', 'resale_price': '780000', 'month': '2021-03', 'remaining_lease': '70 years 04 months', 'lease_commence_date': '1992', 'storey_range': '07 TO 09', '_id': 93797, 'block': '664'}, {'town': 'YISHUN', 'flat_type': 'EXECUTIVE', 'flat_model': 'Apartment', 'floor_area_sqm': '164', 'street_name': 'YISHUN AVE 4', 'resale_price': '788000', 'month': '2021-03', 'remaining_lease': '70 years 04 months', 'lease_commence_date': '1992', 'storey_range': '04 TO 06', '_id': 93798, 'block': '654'}, {'town': 'YISHUN', 'flat_type': 'EXECUTIVE', 'flat_model': 'Apartment', 'floor_area_sqm': '164', 'street_name': 'YISHUN AVE 4', 'resale_price': '800000', 'month': '2021-03', 'remaining_lease': '70 years 03 months', 'lease_commence_date': '1992', 'storey_range': '07 TO 09', '_id': 93799, 'block': '654'}, {'town': 'YISHUN', 'flat_type': 'EXECUTIVE', 'flat_model': 'Maisonette', 'floor_area_sqm': '148', 'street_name': 'YISHUN AVE 6', 'resale_price': '655000', 'month': '2021-02', 'remaining_lease': '66 years 08 months', 'lease_commence_date': '1988', 'storey_range': '10 TO 12', '_id': 93800, 'block': '406'}, {'town': 'YISHUN', 'flat_type': 'EXECUTIVE', 'flat_model': 'Maisonette', 'floor_area_sqm': '146', 'street_name': 'YISHUN CTRL', 'resale_price': '650000', 'month': '2021-01', 'remaining_lease': '66 years 11 months', 'lease_commence_date': '1988', 'storey_range': '04 TO 06', '_id': 93801, 'block': '325'}, {'town': 'YISHUN', 'flat_type': 'EXECUTIVE', 'flat_model': 'Apartment', 'floor_area_sqm': '142', 'street_name': 'YISHUN RING RD', 'resale_price': '630000', 'month': '2021-01', 'remaining_lease': '66 years 08 months', 'lease_commence_date': '1988', 'storey_range': '10 TO 12', '_id': 93802, 'block': '356'}, {'town': 'YISHUN', 'flat_type': 'EXECUTIVE', 'flat_model': 'Maisonette', 'floor_area_sqm': '146', 'street_name': 'YISHUN RING RD', 'resale_price': '620000', 'month': '2021-01', 'remaining_lease': '66 years 06 months', 'lease_commence_date': '1988', 'storey_range': '07 TO 09', '_id': 93803, 'block': '360'}, {'town': 'YISHUN', 'flat_type': 'EXECUTIVE', 'flat_model': 'Apartment', 'floor_area_sqm': '144', 'street_name': 'YISHUN RING RD', 'resale_price': '600000', 'month': '2021-01', 'remaining_lease': '65 years 07 months', 'lease_commence_date': '1987', 'storey_range': '04 TO 06', '_id': 93804, 'block': '792'}, {'town': 'YISHUN', 'flat_type': 'EXECUTIVE', 'flat_model': 'Apartment', 'floor_area_sqm': '145', 'street_name': 'YISHUN RING RD', 'resale_price': '610000', 'month': '2021-01', 'remaining_lease': '66 years 06 months', 'lease_commence_date': '1988', 'storey_range': '01 TO 03', '_id': 93805, 'block': '360'}, {'town': 'YISHUN', 'flat_type': 'EXECUTIVE', 'flat_model': 'Maisonette', 'floor_area_sqm': '146', 'street_name': 'YISHUN RING RD', 'resale_price': '650000', 'month': '2021-02', 'remaining_lease': '66 years 10 months', 'lease_commence_date': '1988', 'storey_range': '10 TO 12', '_id': 93806, 'block': '355'}, {'town': 'YISHUN', 'flat_type': 'EXECUTIVE', 'flat_model': 'Maisonette', 'floor_area_sqm': '146', 'street_name': 'YISHUN RING RD', 'resale_price': '607000', 'month': '2021-02', 'remaining_lease': '66 years 02 months', 'lease_commence_date': '1988', 'storey_range': '01 TO 03', '_id': 93807, 'block': '364'}, {'town': 'YISHUN', 'flat_type': 'EXECUTIVE', 'flat_model': 'Maisonette', 'floor_area_sqm': '146', 'street_name': 'YISHUN RING RD', 'resale_price': '650000', 'month': '2021-03', 'remaining_lease': '66 years 05 months', 'lease_commence_date': '1988', 'storey_range': '10 TO 12', '_id': 93808, 'block': '326'}, {'town': 'YISHUN', 'flat_type': 'EXECUTIVE', 'flat_model': 'Apartment', 'floor_area_sqm': '142', 'street_name': 'YISHUN ST 61', 'resale_price': '576888', 'month': '2021-01', 'remaining_lease': '65 years 08 months', 'lease_commence_date': '1987', 'storey_range': '04 TO 06', '_id': 93809, 'block': '643'}, {'town': 'YISHUN', 'flat_type': 'EXECUTIVE', 'flat_model': 'Maisonette', 'floor_area_sqm': '146', 'street_name': 'YISHUN ST 61', 'resale_price': '590000', 'month': '2021-01', 'remaining_lease': '65 years 08 months', 'lease_commence_date': '1987', 'storey_range': '04 TO 06', '_id': 93810, 'block': '643'}, {'town': 'YISHUN', 'flat_type': 'EXECUTIVE', 'flat_model': 'Maisonette', 'floor_area_sqm': '146', 'street_name': 'YISHUN ST 71', 'resale_price': '588000', 'month': '2021-01', 'remaining_lease': '64 years 07 months', 'lease_commence_date': '1986', 'storey_range': '10 TO 12', '_id': 93811, 'block': '724'}, {'town': 'YISHUN', 'flat_type': 'EXECUTIVE', 'flat_model': 'Apartment', 'floor_area_sqm': '142', 'street_name': 'YISHUN ST 71', 'resale_price': '592000', 'month': '2021-03', 'remaining_lease': '64 years 05 months', 'lease_commence_date': '1986', 'storey_range': '04 TO 06', '_id': 93812, 'block': '724'}, {'town': 'YISHUN', 'flat_type': 'EXECUTIVE', 'flat_model': 'Apartment', 'floor_area_sqm': '142', 'street_name': 'YISHUN ST 81', 'resale_price': '670000', 'month': '2021-01', 'remaining_lease': '66 years', 'lease_commence_date': '1988', 'storey_range': '04 TO 06', '_id': 93813, 'block': '834'}, {'town': 'YISHUN', 'flat_type': 'EXECUTIVE', 'flat_model': 'Apartment', 'floor_area_sqm': '142', 'street_name': 'YISHUN ST 81', 'resale_price': '690000', 'month': '2021-01', 'remaining_lease': '65 years 11 months', 'lease_commence_date': '1987', 'storey_range': '07 TO 09', '_id': 93814, 'block': '877'}, {'town': 'YISHUN', 'flat_type': 'EXECUTIVE', 'flat_model': 'Apartment', 'floor_area_sqm': '142', 'street_name': 'YISHUN ST 81', 'resale_price': '670000', 'month': '2021-02', 'remaining_lease': '66 years', 'lease_commence_date': '1988', 'storey_range': '01 TO 03', '_id': 93815, 'block': '828'}, {'town': 'YISHUN', 'flat_type': 'EXECUTIVE', 'flat_model': 'Maisonette', 'floor_area_sqm': '145', 'street_name': 'YISHUN ST 81', 'resale_price': '660000', 'month': '2021-02', 'remaining_lease': '65 years 10 months', 'lease_commence_date': '1987', 'storey_range': '07 TO 09', '_id': 93816, 'block': '877'}, {'town': 'YISHUN', 'flat_type': 'MULTI-GENERATION', 'flat_model': 'Multi Generation', 'floor_area_sqm': '179', 'street_name': 'YISHUN AVE 4', 'resale_price': '860000', 'month': '2021-01', 'remaining_lease': '66 years', 'lease_commence_date': '1987', 'storey_range': '10 TO 12', '_id': 93817, 'block': '666'}, {'town': 'YISHUN', 'flat_type': 'MULTI-GENERATION', 'flat_model': 'Multi Generation', 'floor_area_sqm': '171', 'street_name': 'YISHUN ST 61', 'resale_price': '860000', 'month': '2021-03', 'remaining_lease': '65 years 10 months', 'lease_commence_date': '1987', 'storey_range': '10 TO 12', '_id': 93818, 'block': '633'}], '_links': {'start': '/api/action/datastore_search?limit=100000&resource_id=42ff9cfe-abe5-4b54-beda-c88f9bb438ee', 'next': '/api/action/datastore_search?offset=100000&limit=100000&resource_id=42ff9cfe-abe5-4b54-beda-c88f9bb438ee'}, 'limit': 100000, 'total': 93818}}\n"
     ]
    }
   ],
   "source": [
    "# Convert JSON into Python Object\n",
    "data = json.loads(results.content)"
   ]
  },
  {
   "cell_type": "code",
   "execution_count": 31,
   "id": "satisfactory-denver",
   "metadata": {},
   "outputs": [
    {
     "output_type": "stream",
     "name": "stdout",
     "text": [
      "93818\n"
     ]
    }
   ],
   "source": [
    "print(len(data['result']['records']))\r\n",
    "streetnames = [d['street_name'] for d in data['result']['records']]\r\n",
    "streetnames = set(streetnames)"
   ]
  },
  {
   "cell_type": "code",
   "execution_count": 32,
   "metadata": {},
   "outputs": [],
   "source": [
    "stname_df = pd.DataFrame(streetnames, columns=[\"Street Name\"])"
   ]
  },
  {
   "cell_type": "code",
   "execution_count": 33,
   "metadata": {},
   "outputs": [],
   "source": [
    "if not os.path.isfile(\".\\DB\\StreetNames.csv\"):\n",
    "    stname_df.to_csv(\".\\DB\\StreetNames.csv\", header=stname_df.columns)\n",
    "else: # else it exists so append without mentioning the header\n",
    "    stname_df.to_csv(\".\\DB\\StreetNames.csv\", mode='a', header=False)"
   ]
  }
 ],
 "metadata": {
  "kernelspec": {
   "display_name": "Python 3",
   "language": "python",
   "name": "python3"
  },
  "language_info": {
   "codemirror_mode": {
    "name": "ipython",
    "version": 3
   },
   "file_extension": ".py",
   "mimetype": "text/x-python",
   "name": "python",
   "nbconvert_exporter": "python",
   "pygments_lexer": "ipython3",
   "version": "3.6.12-final"
  }
 },
 "nbformat": 4,
 "nbformat_minor": 5
}