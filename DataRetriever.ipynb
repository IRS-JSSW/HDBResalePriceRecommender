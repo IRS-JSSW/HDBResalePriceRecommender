{
 "cells": [
  {
   "cell_type": "code",
   "execution_count": 1,
   "id": "prescription-rates",
   "metadata": {},
   "outputs": [],
   "source": [
    "import urllib3"
   ]
  },
  {
   "cell_type": "code",
   "execution_count": 2,
   "id": "inside-cruise",
   "metadata": {},
   "outputs": [],
   "source": [
    "url = 'https://data.gov.sg/api/action/datastore_search?resource_id=42ff9cfe-abe5-4b54-beda-c88f9bb438ee&limit=5'"
   ]
  },
  {
   "cell_type": "code",
   "execution_count": 3,
   "id": "secure-bible",
   "metadata": {},
   "outputs": [
    {
     "name": "stdout",
     "output_type": "stream",
     "text": [
      "<Response [200]>\n"
     ]
    }
   ],
   "source": [
    "import requests\n",
    "\n",
    "results = requests.get(url)\n",
    "\n",
    "print(results)"
   ]
  },
  {
   "cell_type": "code",
   "execution_count": 4,
   "id": "contemporary-compression",
   "metadata": {},
   "outputs": [
    {
     "name": "stdout",
     "output_type": "stream",
     "text": [
      "{'help': 'https://data.gov.sg/api/3/action/help_show?name=datastore_search', 'success': True, 'result': {'resource_id': '42ff9cfe-abe5-4b54-beda-c88f9bb438ee', 'fields': [{'type': 'int4', 'id': '_id'}, {'type': 'text', 'id': 'month'}, {'type': 'text', 'id': 'town'}, {'type': 'text', 'id': 'flat_type'}, {'type': 'text', 'id': 'block'}, {'type': 'text', 'id': 'street_name'}, {'type': 'text', 'id': 'storey_range'}, {'type': 'numeric', 'id': 'floor_area_sqm'}, {'type': 'text', 'id': 'flat_model'}, {'type': 'numeric', 'id': 'lease_commence_date'}, {'type': 'text', 'id': 'remaining_lease'}, {'type': 'numeric', 'id': 'resale_price'}], 'records': [{'town': 'ANG MO KIO', 'flat_type': '2 ROOM', 'flat_model': 'Improved', 'floor_area_sqm': '44', 'street_name': 'ANG MO KIO AVE 10', 'resale_price': '232000', 'month': '2017-01', 'remaining_lease': '61 years 04 months', 'lease_commence_date': '1979', 'storey_range': '10 TO 12', '_id': 1, 'block': '406'}, {'town': 'ANG MO KIO', 'flat_type': '3 ROOM', 'flat_model': 'New Generation', 'floor_area_sqm': '67', 'street_name': 'ANG MO KIO AVE 4', 'resale_price': '250000', 'month': '2017-01', 'remaining_lease': '60 years 07 months', 'lease_commence_date': '1978', 'storey_range': '01 TO 03', '_id': 2, 'block': '108'}, {'town': 'ANG MO KIO', 'flat_type': '3 ROOM', 'flat_model': 'New Generation', 'floor_area_sqm': '67', 'street_name': 'ANG MO KIO AVE 5', 'resale_price': '262000', 'month': '2017-01', 'remaining_lease': '62 years 05 months', 'lease_commence_date': '1980', 'storey_range': '01 TO 03', '_id': 3, 'block': '602'}, {'town': 'ANG MO KIO', 'flat_type': '3 ROOM', 'flat_model': 'New Generation', 'floor_area_sqm': '68', 'street_name': 'ANG MO KIO AVE 10', 'resale_price': '265000', 'month': '2017-01', 'remaining_lease': '62 years 01 month', 'lease_commence_date': '1980', 'storey_range': '04 TO 06', '_id': 4, 'block': '465'}, {'town': 'ANG MO KIO', 'flat_type': '3 ROOM', 'flat_model': 'New Generation', 'floor_area_sqm': '67', 'street_name': 'ANG MO KIO AVE 5', 'resale_price': '265000', 'month': '2017-01', 'remaining_lease': '62 years 05 months', 'lease_commence_date': '1980', 'storey_range': '01 TO 03', '_id': 5, 'block': '601'}], '_links': {'start': '/api/action/datastore_search?limit=5&resource_id=42ff9cfe-abe5-4b54-beda-c88f9bb438ee', 'next': '/api/action/datastore_search?offset=5&limit=5&resource_id=42ff9cfe-abe5-4b54-beda-c88f9bb438ee'}, 'limit': 5, 'total': 92270}}\n"
     ]
    }
   ],
   "source": [
    "import json\n",
    "\n",
    "# Convert JSON into Python Object\n",
    "data = json.loads(results.content)\n",
    "# Extract data from JSON\n",
    "print(data)"
   ]
  },
  {
   "cell_type": "code",
   "execution_count": 7,
   "id": "satisfactory-denver",
   "metadata": {},
   "outputs": [
    {
     "name": "stdout",
     "output_type": "stream",
     "text": [
      "[{'town': 'ANG MO KIO', 'flat_type': '2 ROOM', 'flat_model': 'Improved', 'floor_area_sqm': '44', 'street_name': 'ANG MO KIO AVE 10', 'resale_price': '232000', 'month': '2017-01', 'remaining_lease': '61 years 04 months', 'lease_commence_date': '1979', 'storey_range': '10 TO 12', '_id': 1, 'block': '406'}, {'town': 'ANG MO KIO', 'flat_type': '3 ROOM', 'flat_model': 'New Generation', 'floor_area_sqm': '67', 'street_name': 'ANG MO KIO AVE 4', 'resale_price': '250000', 'month': '2017-01', 'remaining_lease': '60 years 07 months', 'lease_commence_date': '1978', 'storey_range': '01 TO 03', '_id': 2, 'block': '108'}, {'town': 'ANG MO KIO', 'flat_type': '3 ROOM', 'flat_model': 'New Generation', 'floor_area_sqm': '67', 'street_name': 'ANG MO KIO AVE 5', 'resale_price': '262000', 'month': '2017-01', 'remaining_lease': '62 years 05 months', 'lease_commence_date': '1980', 'storey_range': '01 TO 03', '_id': 3, 'block': '602'}, {'town': 'ANG MO KIO', 'flat_type': '3 ROOM', 'flat_model': 'New Generation', 'floor_area_sqm': '68', 'street_name': 'ANG MO KIO AVE 10', 'resale_price': '265000', 'month': '2017-01', 'remaining_lease': '62 years 01 month', 'lease_commence_date': '1980', 'storey_range': '04 TO 06', '_id': 4, 'block': '465'}, {'town': 'ANG MO KIO', 'flat_type': '3 ROOM', 'flat_model': 'New Generation', 'floor_area_sqm': '67', 'street_name': 'ANG MO KIO AVE 5', 'resale_price': '265000', 'month': '2017-01', 'remaining_lease': '62 years 05 months', 'lease_commence_date': '1980', 'storey_range': '01 TO 03', '_id': 5, 'block': '601'}]\n"
     ]
    }
   ],
   "source": [
    "print(data['result']['records'])"
   ]
  }
 ],
 "metadata": {
  "kernelspec": {
   "display_name": "Python 3",
   "language": "python",
   "name": "python3"
  },
  "language_info": {
   "codemirror_mode": {
    "name": "ipython",
    "version": 3
   },
   "file_extension": ".py",
   "mimetype": "text/x-python",
   "name": "python",
   "nbconvert_exporter": "python",
   "pygments_lexer": "ipython3",
   "version": "3.6.12"
  }
 },
 "nbformat": 4,
 "nbformat_minor": 5
}
