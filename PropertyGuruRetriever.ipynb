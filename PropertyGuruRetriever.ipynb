{
 "cells": [
  {
   "cell_type": "code",
   "execution_count": 1,
   "id": "shared-ambassador",
   "metadata": {},
   "outputs": [],
   "source": [
    "from selenium import webdriver \n",
    "from selenium.webdriver.firefox.options import Options\n",
    "import os"
   ]
  },
  {
   "cell_type": "code",
   "execution_count": 2,
   "id": "touched-underground",
   "metadata": {},
   "outputs": [],
   "source": [
    "def StartSeleniumWindows():\n",
    "    options = Options()\n",
    "    options.headless = True\n",
    "    assert options.headless\n",
    "    options.binary_location = r\"C:\\Users\\yeewl\\AppData\\Local\\Mozilla Firefox\\firefox.exe\"\n",
    "    driver = webdriver.Firefox(executable_path=\".\\geckodriver.exe\",options=options)\n",
    "    driver.get('https://www.propertyguru.com.sg/property-for-sale?MRT_STATIONS%5B%5D=EW3&market=residential&property_type_code%5B%5D=1R&property_type_code%5B%5D=2A&property_type_code%5B%5D=2I&property_type_code%5B%5D=2S&property_type_code%5B%5D=3A&property_type_code%5B%5D=3NG&property_type_code%5B%5D=3Am&property_type_code%5B%5D=3NGm&property_type_code%5B%5D=3I&property_type_code%5B%5D=3Im&property_type_code%5B%5D=3S&property_type_code%5B%5D=3STD&property_type_code%5B%5D=4A&property_type_code%5B%5D=4NG&property_type_code%5B%5D=4S&property_type_code%5B%5D=4I&property_type_code%5B%5D=4STD&property_type_code%5B%5D=5A&property_type_code%5B%5D=5I&property_type_code%5B%5D=5S&property_type_code%5B%5D=6J&property_type_code%5B%5D=EA&property_type_code%5B%5D=EM&property_type_code%5B%5D=MG&property_type_code%5B%5D=TE&property_type=H&freetext=EW3+Simei+MRT')\n",
    "    return drivers"
   ]
  },
  {
   "cell_type": "code",
   "execution_count": 3,
   "id": "coated-criminal",
   "metadata": {},
   "outputs": [],
   "source": [
    "def StartSeleniumUbuntu():\n",
    "    path = os.path.join(os.path.expanduser('~'), 'irs', 'HDBResalePriceRecommender', 'geckodriver-v0.29.0', 'geckodriver')\n",
    "    options = Options()\n",
    "    options.headless = True\n",
    "    assert options.headless\n",
    "    driver = webdriver.Firefox(executable_path=path, options=options)\n",
    "    driver.get('https://www.propertyguru.com.sg/property-for-sale?MRT_STATIONS%5B%5D=EW3&market=residential&property_type_code%5B%5D=1R&property_type_code%5B%5D=2A&property_type_code%5B%5D=2I&property_type_code%5B%5D=2S&property_type_code%5B%5D=3A&property_type_code%5B%5D=3NG&property_type_code%5B%5D=3Am&property_type_code%5B%5D=3NGm&property_type_code%5B%5D=3I&property_type_code%5B%5D=3Im&property_type_code%5B%5D=3S&property_type_code%5B%5D=3STD&property_type_code%5B%5D=4A&property_type_code%5B%5D=4NG&property_type_code%5B%5D=4S&property_type_code%5B%5D=4I&property_type_code%5B%5D=4STD&property_type_code%5B%5D=5A&property_type_code%5B%5D=5I&property_type_code%5B%5D=5S&property_type_code%5B%5D=6J&property_type_code%5B%5D=EA&property_type_code%5B%5D=EM&property_type_code%5B%5D=MG&property_type_code%5B%5D=TE&property_type=H&freetext=EW3+Simei+MRT')\n",
    "    return driver "
   ]
  },
  {
   "cell_type": "code",
   "execution_count": 6,
   "id": "upset-tooth",
   "metadata": {},
   "outputs": [
    {
     "data": {
      "text/plain": [
       "20"
      ]
     },
     "execution_count": 6,
     "metadata": {},
     "output_type": "execute_result"
    }
   ],
   "source": [
    "driver = StartSeleniumUbuntu()\n",
    "listings = driver.find_elements_by_class_name(\"listing-location\")\n",
    "len(listings)"
   ]
  },
  {
   "cell_type": "code",
   "execution_count": 8,
   "id": "premier-nylon",
   "metadata": {},
   "outputs": [
    {
     "name": "stdout",
     "output_type": "stream",
     "text": [
      "<selenium.webdriver.firefox.webelement.FirefoxWebElement (session=\"23b4cd1e-905f-44c9-8c5f-1b6c2fffa165\", element=\"844cd667-491e-47f7-9c0e-b9f049ae21a0\")>\n"
     ]
    }
   ],
   "source": [
    "print(listings[0])"
   ]
  },
  {
   "cell_type": "code",
   "execution_count": null,
   "id": "asian-praise",
   "metadata": {},
   "outputs": [],
   "source": []
  }
 ],
 "metadata": {
  "kernelspec": {
   "display_name": "Python 3",
   "language": "python",
   "name": "python3"
  },
  "language_info": {
   "codemirror_mode": {
    "name": "ipython",
    "version": 3
   },
   "file_extension": ".py",
   "mimetype": "text/x-python",
   "name": "python",
   "nbconvert_exporter": "python",
   "pygments_lexer": "ipython3",
   "version": "3.6.12"
  }
 },
 "nbformat": 4,
 "nbformat_minor": 5
}
