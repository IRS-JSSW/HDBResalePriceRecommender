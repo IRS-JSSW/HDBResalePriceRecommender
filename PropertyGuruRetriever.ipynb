{
 "cells": [
  {
   "cell_type": "code",
   "execution_count": 13,
   "id": "dimensional-married",
   "metadata": {},
   "outputs": [],
   "source": [
    "from selenium import webdriver \n",
    "from selenium.webdriver.firefox.options import Options\n",
    "\n",
    "options = Options()\n",
    "options.headless = True\n",
    "assert options.headless\n",
    "options.binary_location = r\"C:\\Users\\yeewl\\AppData\\Local\\Mozilla Firefox\\firefox.exe\"\n",
    "driver = webdriver.Firefox(executable_path=\".\\geckodriver.exe\",options=options)\n",
    "driver.get('http://www.gutenberg.org/ebooks/search/%3Fsort_order%3Drelease_date')"
   ]
  },
  {
   "cell_type": "code",
   "execution_count": 14,
   "id": "musical-detective",
   "metadata": {},
   "outputs": [
    {
     "data": {
      "text/plain": [
       "25"
      ]
     },
     "execution_count": 14,
     "metadata": {},
     "output_type": "execute_result"
    }
   ],
   "source": [
    "books = driver.find_elements_by_class_name(\"booklink\")\n",
    "len(books)"
   ]
  },
  {
   "cell_type": "code",
   "execution_count": null,
   "id": "mineral-teach",
   "metadata": {},
   "outputs": [],
   "source": []
  }
 ],
 "metadata": {
  "kernelspec": {
   "display_name": "Python 3",
   "language": "python",
   "name": "python3"
  },
  "language_info": {
   "codemirror_mode": {
    "name": "ipython",
    "version": 3
   },
   "file_extension": ".py",
   "mimetype": "text/x-python",
   "name": "python",
   "nbconvert_exporter": "python",
   "pygments_lexer": "ipython3",
   "version": "3.6.12"
  }
 },
 "nbformat": 4,
 "nbformat_minor": 5
}
