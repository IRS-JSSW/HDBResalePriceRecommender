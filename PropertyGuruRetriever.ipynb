{
 "cells": [
  {
   "cell_type": "code",
   "execution_count": 8,
   "id": "shared-ambassador",
   "metadata": {},
   "outputs": [],
   "source": [
    "from selenium import webdriver \n",
    "from selenium.webdriver.firefox.options import Options\n",
    "import os\n",
    "import re"
   ]
  },
  {
   "cell_type": "code",
   "execution_count": 9,
   "metadata": {},
   "outputs": [],
   "source": [
    "def urlify(s):\n",
    "    \n",
    "    # Remove all non-word characters (everything except numbers and letters)\n",
    "    # s = re.sub(r\"[^\\w\\s]\", '', s)\n",
    "\n",
    "    # Replace all runs of whitespace with a single dash\n",
    "    s = re.sub(r\"\\s+\", '+', s)\n",
    "\n",
    "    return s"
   ]
  },
  {
   "cell_type": "code",
   "execution_count": 12,
   "id": "touched-underground",
   "metadata": {},
   "outputs": [],
   "source": [
    "def StartSeleniumWindows():\n",
    "    options = Options()\n",
    "    options.headless = True\n",
    "    assert options.headless\n",
    "    #options.binary_location = r\"C:\\Users\\yeewl\\AppData\\Local\\Mozilla Firefox\\firefox.exe\"\n",
    "    options.binary_location = r\"C:\\Program Files\\Mozilla Firefox\\firefox.exe\"\n",
    "    driver = webdriver.Firefox(executable_path=\".\\geckodriver.exe\",options=options)\n",
    "    location = \"Jurong West Street 61\"\n",
    "    driver.get(\"https://www.propertyguru.com.sg/property-for-sale?market=residential&property_type_code%5B%5D=1R&property_type_code%5B%5D=2A&property_type_code%5B%5D=2I&property_type_code%5B%5D=2S&property_type_code%5B%5D=3A&property_type_code%5B%5D=3NG&property_type_code%5B%5D=3Am&property_type_code%5B%5D=3NGm&property_type_code%5B%5D=3I&property_type_code%5B%5D=3Im&property_type_code%5B%5D=3S&property_type_code%5B%5D=3STD&property_type_code%5B%5D=4A&property_type_code%5B%5D=4NG&property_type_code%5B%5D=4S&property_type_code%5B%5D=4I&property_type_code%5B%5D=4STD&property_type_code%5B%5D=5A&property_type_code%5B%5D=5I&property_type_code%5B%5D=5S&property_type_code%5B%5D=6J&property_type_code%5B%5D=EA&property_type_code%5B%5D=EM&property_type_code%5B%5D=MG&property_type_code%5B%5D=TE&property_type=H&freetext=\" + format(urlify(location)))\n",
    "    return driver"
   ]
  },
  {
   "cell_type": "code",
   "execution_count": 3,
   "id": "coated-criminal",
   "metadata": {},
   "outputs": [],
   "source": [
    "def StartSeleniumUbuntu():\n",
    "    path = os.path.join(os.path.expanduser('~'), 'irs', 'HDBResalePriceRecommender', 'geckodriver-v0.29.0', 'geckodriver')\n",
    "    options = Options()\n",
    "    options.headless = True\n",
    "    assert options.headless\n",
    "    driver = webdriver.Firefox(executable_path=path, options=options)\n",
    "    driver.get(\"https://www.propertyguru.com.sg/property-for-sale?market=residential&property_type_code%5B%5D=1R&property_type_code%5B%5D=2A&property_type_code%5B%5D=2I&property_type_code%5B%5D=2S&property_type_code%5B%5D=3A&property_type_code%5B%5D=3NG&property_type_code%5B%5D=3Am&property_type_code%5B%5D=3NGm&property_type_code%5B%5D=3I&property_type_code%5B%5D=3Im&property_type_code%5B%5D=3S&property_type_code%5B%5D=3STD&property_type_code%5B%5D=4A&property_type_code%5B%5D=4NG&property_type_code%5B%5D=4S&property_type_code%5B%5D=4I&property_type_code%5B%5D=4STD&property_type_code%5B%5D=5A&property_type_code%5B%5D=5I&property_type_code%5B%5D=5S&property_type_code%5B%5D=6J&property_type_code%5B%5D=EA&property_type_code%5B%5D=EM&property_type_code%5B%5D=MG&property_type_code%5B%5D=TE&property_type=H&freetext={1}\".format(location))\n",
    "    return driver "
   ]
  },
  {
   "cell_type": "code",
   "execution_count": null,
   "id": "painted-figure",
   "metadata": {},
   "outputs": [],
   "source": [
    "# Pending:\n",
    "# - take block number or postal as search\n",
    "# - take MRT as search"
   ]
  },
  {
   "cell_type": "code",
   "execution_count": 13,
   "id": "upset-tooth",
   "metadata": {
    "scrolled": true
   },
   "outputs": [
    {
     "output_type": "stream",
     "name": "stdout",
     "text": [
      "Jurong+West+Street+61\n"
     ]
    },
    {
     "output_type": "execute_result",
     "data": {
      "text/plain": [
       "20"
      ]
     },
     "metadata": {},
     "execution_count": 13
    }
   ],
   "source": [
    "driver = StartSeleniumWindows()\n",
    "listings = driver.find_elements_by_class_name(\"listing-location\")\n",
    "len(listings)\n",
    "\n",
    "prices = driver.find_elements_by_css_selector(\"span.price\")\n",
    "len(prices)"
   ]
  },
  {
   "cell_type": "code",
   "execution_count": 7,
   "id": "premier-nylon",
   "metadata": {
    "scrolled": false
   },
   "outputs": [
    {
     "output_type": "stream",
     "name": "stdout",
     "text": [
      "Listing 0: 288 Tampines Street 22 at 550,000\n",
      "Listing 1: 103 Tampines Street 11 at 478,000\n",
      "Listing 2: 284 Tampines Street 22 at 439,000\n",
      "Listing 3: 167D Simei Lane at 820,000\n",
      "Listing 4: 103 Tampines Street 11 at 387,000\n",
      "Listing 5: 137 Simei Street 1 at 590,000\n",
      "Listing 6: 103 Tampines Street 11 at 478,000\n",
      "Listing 7: 124 Tampines Street 11 at 650,000\n",
      "Listing 8: 280 Tampines Street 22 at 450,000\n",
      "Listing 9: 288 Tampines Street 22 at 530,000\n",
      "Listing 10: 156 Simei Road at 480,000\n",
      "Listing 11: 245 Simei Street 5 at 760,000\n",
      "Listing 12: 284 Tampines Street 22 at 439,000\n",
      "Listing 13: 283 Tampines Street 22 at 438,000\n",
      "Listing 14: 224 Simei Street 4 at 588,000\n",
      "Listing 15: 117 Simei Street 1 at 698,000\n",
      "Listing 16: 223 Simei Street 4 at 499,000\n",
      "Listing 17: 224 Simei Street 4 at 500,000\n",
      "Listing 18: 134 Simei Street 1 at 569,000\n",
      "Listing 19: 160 Simei Road at 480,000\n"
     ]
    }
   ],
   "source": [
    "for index, (l, p) in enumerate(zip(listings, prices)):\n",
    "    print(\"Listing {0}: {1} at {2}\".format(str(index), l.text, p.text))"
   ]
  }
 ],
 "metadata": {
  "kernelspec": {
   "name": "python3",
   "display_name": "Python 3.6.12 64-bit ('py36': conda)",
   "metadata": {
    "interpreter": {
     "hash": "280b9355032d229ab1643263eb0ecc2e53873d37f0c20390aaaeff73ee06bda5"
    }
   }
  },
  "language_info": {
   "codemirror_mode": {
    "name": "ipython",
    "version": 3
   },
   "file_extension": ".py",
   "mimetype": "text/x-python",
   "name": "python",
   "nbconvert_exporter": "python",
   "pygments_lexer": "ipython3",
   "version": "3.6.12-final"
  }
 },
 "nbformat": 4,
 "nbformat_minor": 5
}