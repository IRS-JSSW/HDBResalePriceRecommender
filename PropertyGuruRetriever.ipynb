{
 "cells": [
  {
   "cell_type": "code",
   "execution_count": 1,
   "id": "shared-ambassador",
   "metadata": {},
   "outputs": [],
   "source": [
    "from selenium import webdriver \n",
    "from selenium.webdriver.firefox.options import Options\n",
    "import os"
   ]
  },
  {
   "cell_type": "code",
   "execution_count": 2,
   "id": "touched-underground",
   "metadata": {},
   "outputs": [],
   "source": [
    "def StartSeleniumWindows():\n",
    "    options = Options()\n",
    "    options.headless = True\n",
    "    assert options.headless\n",
    "    options.binary_location = r\"C:\\Users\\yeewl\\AppData\\Local\\Mozilla Firefox\\firefox.exe\"\n",
    "    driver = webdriver.Firefox(executable_path=\".\\geckodriver.exe\",options=options)\n",
    "    driver.get('https://www.propertyguru.com.sg/property-for-sale?MRT_STATIONS%5B%5D=EW3&market=residential&property_type_code%5B%5D=1R&property_type_code%5B%5D=2A&property_type_code%5B%5D=2I&property_type_code%5B%5D=2S&property_type_code%5B%5D=3A&property_type_code%5B%5D=3NG&property_type_code%5B%5D=3Am&property_type_code%5B%5D=3NGm&property_type_code%5B%5D=3I&property_type_code%5B%5D=3Im&property_type_code%5B%5D=3S&property_type_code%5B%5D=3STD&property_type_code%5B%5D=4A&property_type_code%5B%5D=4NG&property_type_code%5B%5D=4S&property_type_code%5B%5D=4I&property_type_code%5B%5D=4STD&property_type_code%5B%5D=5A&property_type_code%5B%5D=5I&property_type_code%5B%5D=5S&property_type_code%5B%5D=6J&property_type_code%5B%5D=EA&property_type_code%5B%5D=EM&property_type_code%5B%5D=MG&property_type_code%5B%5D=TE&property_type=H&freetext=EW3+Simei+MRT')\n",
    "    return drivers"
   ]
  },
  {
   "cell_type": "code",
   "execution_count": 3,
   "id": "coated-criminal",
   "metadata": {},
   "outputs": [],
   "source": [
    "def StartSeleniumUbuntu():\n",
    "    path = os.path.join(os.path.expanduser('~'), 'irs', 'HDBResalePriceRecommender', 'geckodriver-v0.29.0', 'geckodriver')\n",
    "    options = Options()\n",
    "    options.headless = True\n",
    "    assert options.headless\n",
    "    driver = webdriver.Firefox(executable_path=path, options=options)\n",
    "    driver.get('https://www.propertyguru.com.sg/property-for-sale?MRT_STATIONS%5B%5D=EW3&market=residential&property_type_code%5B%5D=1R&property_type_code%5B%5D=2A&property_type_code%5B%5D=2I&property_type_code%5B%5D=2S&property_type_code%5B%5D=3A&property_type_code%5B%5D=3NG&property_type_code%5B%5D=3Am&property_type_code%5B%5D=3NGm&property_type_code%5B%5D=3I&property_type_code%5B%5D=3Im&property_type_code%5B%5D=3S&property_type_code%5B%5D=3STD&property_type_code%5B%5D=4A&property_type_code%5B%5D=4NG&property_type_code%5B%5D=4S&property_type_code%5B%5D=4I&property_type_code%5B%5D=4STD&property_type_code%5B%5D=5A&property_type_code%5B%5D=5I&property_type_code%5B%5D=5S&property_type_code%5B%5D=6J&property_type_code%5B%5D=EA&property_type_code%5B%5D=EM&property_type_code%5B%5D=MG&property_type_code%5B%5D=TE&property_type=H&freetext=EW3+Simei+MRT')\n",
    "    return driver "
   ]
  },
  {
   "cell_type": "code",
   "execution_count": null,
   "id": "painted-figure",
   "metadata": {},
   "outputs": [],
   "source": [
    "# Pending:\n",
    "# - take block number or postal as search\n",
    "# - take MRT as search"
   ]
  },
  {
   "cell_type": "code",
   "execution_count": 16,
   "id": "upset-tooth",
   "metadata": {
    "scrolled": true
   },
   "outputs": [
    {
     "data": {
      "text/plain": [
       "20"
      ]
     },
     "execution_count": 16,
     "metadata": {},
     "output_type": "execute_result"
    }
   ],
   "source": [
    "driver = StartSeleniumUbuntu()\n",
    "listings = driver.find_elements_by_class_name(\"listing-location\")\n",
    "len(listings)\n",
    "\n",
    "prices = driver.find_elements_by_css_selector(\"span.price\")\n",
    "len(prices)"
   ]
  },
  {
   "cell_type": "code",
   "execution_count": null,
   "id": "premier-nylon",
   "metadata": {
    "scrolled": false
   },
   "outputs": [
    {
     "name": "stdout",
     "output_type": "stream",
     "text": [
      "Listing 0: 284 Tampines Street 22 at 439,000\n",
      "Listing 1: 283 Tampines Street 22 at 438,000\n",
      "Listing 2: 126 Simei Street 1 at 428,000\n",
      "Listing 3: 234 Simei Street 4 at 610,000\n",
      "Listing 4: 284 Tampines Street 22 at 439,000\n",
      "Listing 5: 224 Simei Street 4 at 588,000\n",
      "Listing 6: 117 Simei Street 1 at 698,000\n",
      "Listing 7: 167D Simei Lane at 820,000\n",
      "Listing 8: 103 Tampines Street 11 at 478,000\n",
      "Listing 9: 167C Simei Lane at 850,000\n",
      "Listing 10: 103 Tampines Street 11 at 387,000\n",
      "Listing 11: 223 Simei Street 4 at 499,000\n",
      "Listing 12: 280 Tampines Street 22 at 450,000\n"
     ]
    }
   ],
   "source": [
    "for index, (l, p) in enumerate(zip(listings, prices)):\n",
    "    print(\"Listing {0}: {1} at {2}\".format(str(index), l.text, p.text))"
   ]
  },
  {
   "cell_type": "code",
   "execution_count": null,
   "id": "parliamentary-belly",
   "metadata": {},
   "outputs": [],
   "source": []
  }
 ],
 "metadata": {
  "kernelspec": {
   "display_name": "Python 3",
   "language": "python",
   "name": "python3"
  },
  "language_info": {
   "codemirror_mode": {
    "name": "ipython",
    "version": 3
   },
   "file_extension": ".py",
   "mimetype": "text/x-python",
   "name": "python",
   "nbconvert_exporter": "python",
   "pygments_lexer": "ipython3",
   "version": "3.6.12"
  }
 },
 "nbformat": 4,
 "nbformat_minor": 5
}
